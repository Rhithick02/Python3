{
 "cells": [
  {
   "cell_type": "code",
   "execution_count": 81,
   "metadata": {},
   "outputs": [],
   "source": [
    "import pandas as pd\n",
    "import numpy as np"
   ]
  },
  {
   "cell_type": "code",
   "execution_count": 82,
   "metadata": {},
   "outputs": [],
   "source": [
    "def sigmoid(z):\n",
    "    return 1 / (1 + np.exp(-z))"
   ]
  },
  {
   "cell_type": "code",
   "execution_count": 83,
   "metadata": {},
   "outputs": [],
   "source": [
    "def sigmoid_grad(z):\n",
    "    return sigmoid(z) * (1 - sigmoid(z))"
   ]
  },
  {
   "cell_type": "code",
   "execution_count": 84,
   "metadata": {},
   "outputs": [],
   "source": [
    "def forward_prop(X, theta1, theta2):\n",
    "    a2 = sigmoid(X @ theta1.T)\n",
    "    te = np.ones(shape = (a2.shape[0], 1))\n",
    "    a2 = np.append(te, a2, axis = 1)\n",
    "    a3 = sigmoid(theta2 @ a2.T)\n",
    "    return a3 # a3 shape = 3 x 210"
   ]
  },
  {
   "cell_type": "code",
   "execution_count": 222,
   "metadata": {},
   "outputs": [],
   "source": [
    "def cost(X, y_new, theta1, theta2, lamda):\n",
    "    hx = forward_prop(X, theta1, theta2)\n",
    "    J = np.sum(np.sum(y_new * np.log(hx) + (1 - y_new) * np.log(1 - hx)))\n",
    "    J = (-1 * J) / len(Y)\n",
    "    reg = lamda * (np.sum(np.sum(theta1[:, 1:] * theta1[:, 1:])) + np.sum(np.sum(theta2[:, 1:] * theta2[:, 1:]))) / (2 * len(Y))\n",
    "    return J + reg"
   ]
  },
  {
   "cell_type": "code",
   "execution_count": 227,
   "metadata": {},
   "outputs": [],
   "source": [
    "def back_prop(X, Y, y_new, theta1, theta2, lamda):\n",
    "    theta1_grad = np.zeros(theta1.shape);\n",
    "    theta2_grad = np.zeros(theta2.shape);\n",
    "    for i in range(len(Y)):\n",
    "        a1 = X[i].reshape((1, X.shape[1]))\n",
    "        z2 = a1 @ theta1.T\n",
    "        a2 = sigmoid(z2)  # a2 Shape = 1 x 7\n",
    "        te = np.ones(shape = (a2.shape[0], 1)) \n",
    "        a2 = np.append(te, a2, axis = 1) # a2 Shape = 1 x 8\n",
    "        a3 = sigmoid(theta2 @ a2.T)\n",
    "        delta3 = a3 - y_new[:, i].reshape((3, 1))\n",
    "        z2 = np.append(te, z2, axis = 1) # z2 Shape = 1 x 8\n",
    "        delta2 = (theta2.T @ delta3) * sigmoid_grad(z2.T)\n",
    "        delta2 = delta2[1:].reshape((7, 1))\n",
    "        theta2_grad += delta3 @ a2\n",
    "        theta1_grad += delta2 @ a1\n",
    "    theta2_grad /= len(Y)\n",
    "    theta1_grad /= len(Y)\n",
    "    theta1_grad[:, 1:] += lamda * theta1[:, 1:] / len(Y)\n",
    "    theta2_grad[:, 1:] += lamda * theta2[:, 1:] / len(Y)\n",
    "    return theta1_grad, theta2_grad"
   ]
  },
  {
   "cell_type": "code",
   "execution_count": 229,
   "metadata": {},
   "outputs": [],
   "source": [
    "def train(X, Y, theta1, theta2, l_rate, epochs, lamda):\n",
    "    y_new = np.zeros(shape = (3, X.shape[0]))\n",
    "    for i in range(X.shape[0]):\n",
    "        y_new[int(Y[i])-1][i] = 1\n",
    "    for epoch in range(1, epochs+1):\n",
    "        temp1, temp2 = back_prop(X, Y, y_new, theta1, theta2, lamda)\n",
    "        theta1 -= l_rate * temp1\n",
    "        theta2 -= l_rate * temp2\n",
    "        J = cost(X, y_new, theta1, theta2, lamda)\n",
    "        if (epoch) % 500 == 0:\n",
    "            print(\"epoch \" + str(epoch) + \": \" + str(J))\n",
    "    return theta1, theta2"
   ]
  },
  {
   "cell_type": "code",
   "execution_count": 127,
   "metadata": {},
   "outputs": [
    {
     "data": {
      "text/plain": [
       "(210, 8)"
      ]
     },
     "execution_count": 127,
     "metadata": {},
     "output_type": "execute_result"
    }
   ],
   "source": [
    "df = pd.read_csv('seeds_dataset.txt', header = None).values\n",
    "df.shape"
   ]
  },
  {
   "cell_type": "code",
   "execution_count": 128,
   "metadata": {},
   "outputs": [],
   "source": [
    "X = df[:, :-1] # Shape = 210 x 7\n",
    "Y = df[:, -1].reshape((210, 1)) # Shape = 210 x 1"
   ]
  },
  {
   "cell_type": "code",
   "execution_count": 129,
   "metadata": {},
   "outputs": [
    {
     "data": {
      "text/plain": [
       "(210, 8)"
      ]
     },
     "execution_count": 129,
     "metadata": {},
     "output_type": "execute_result"
    }
   ],
   "source": [
    "# normalise\n",
    "for i in range(X.shape[1]):\n",
    "    X.T[i] = (X.T[i] - X.T[i].mean()) / np.std(X.T[i])\n",
    "# X\n",
    "x = np.ones(shape = (X.shape[0], 1))\n",
    "X = np.append(x, X, axis = 1)\n",
    "X.shape"
   ]
  },
  {
   "cell_type": "code",
   "execution_count": 237,
   "metadata": {},
   "outputs": [],
   "source": [
    "# Hyper parameters\n",
    "lamda = 0.01\n",
    "inp_lyr = 7\n",
    "hid_lyr = 7\n",
    "out_lyr = 3\n",
    "l_rate = 0.2\n",
    "epochs = 5000\n",
    "epsil = 10 ** (-4)\n",
    "theta1 = (2 * np.random.rand(hid_lyr, inp_lyr + 1) - 1) * epsil #theta1 shape = 7 x 8\n",
    "theta2 = (2 * np.random.rand(out_lyr, hid_lyr + 1) - 1) * epsil #theta2 shape = 3 x 8"
   ]
  },
  {
   "cell_type": "code",
   "execution_count": 241,
   "metadata": {},
   "outputs": [
    {
     "name": "stdout",
     "output_type": "stream",
     "text": [
      "epoch 500: 0.1270971010692014\n",
      "epoch 1000: 0.11519330958521798\n",
      "epoch 1500: 0.10607286033822276\n",
      "epoch 2000: 0.09877737978200919\n",
      "epoch 2500: 0.09277765646113696\n",
      "epoch 3000: 0.08775288298109381\n",
      "epoch 3500: 0.08348676662263389\n",
      "epoch 4000: 0.07981749398951966\n",
      "epoch 4500: 0.07662022237216712\n",
      "epoch 5000: 0.07380004231184649\n"
     ]
    }
   ],
   "source": [
    "theta1, theta2 = train(X, Y, theta1, theta2, l_rate, epochs, 0.01)"
   ]
  },
  {
   "cell_type": "code",
   "execution_count": 243,
   "metadata": {},
   "outputs": [
    {
     "data": {
      "text/plain": [
       "(array([[-0.89114636,  0.80694609,  0.87291342, -0.18955177, -1.72834775,\n",
       "          0.65386251,  0.06799953,  1.7698029 ],\n",
       "        [ 2.09344912,  1.688575  ,  1.93573577,  0.26426086,  1.84872818,\n",
       "          1.30014122, -0.2198797 , -0.61559682],\n",
       "        [-0.73686521, -0.46669415, -0.10218619, -0.87752754,  5.0422004 ,\n",
       "         -1.23510871, -2.06111907, -4.4888921 ],\n",
       "        [ 1.26288353,  1.6740876 ,  1.76606078,  1.50048815,  0.76034048,\n",
       "          1.46662226, -1.47213168, -4.82865222],\n",
       "        [-4.01773058, -2.7750816 , -3.45598069,  0.79944078, -3.75472975,\n",
       "         -1.45369553,  0.13284491,  4.36710518],\n",
       "        [-0.96426929,  2.08005386,  2.0510561 , -1.13765742, -5.28571467,\n",
       "          1.02360469,  0.34763906,  3.34914268],\n",
       "        [ 1.66581156, -1.76303658, -1.82435085,  0.69432792,  3.27705198,\n",
       "         -0.68481398, -0.83228721, -3.08645185]]),\n",
       " array([[-4.97226287, -2.85944984,  1.38835366,  5.01783193,  4.72005294,\n",
       "         -6.68952576, -6.6145334 ,  4.03582316],\n",
       "        [-0.71885872,  2.66085102,  1.81738452, -3.60445779, -1.13805443,\n",
       "         -1.98909767,  5.95346501, -5.35138823],\n",
       "        [ 1.12534354, -1.58071567, -3.03717644, -5.48123571, -5.13181974,\n",
       "          5.8266533 , -0.82843025,  1.90331177]]))"
      ]
     },
     "execution_count": 243,
     "metadata": {},
     "output_type": "execute_result"
    }
   ],
   "source": [
    "theta1, theta2"
   ]
  }
 ],
 "metadata": {
  "kernelspec": {
   "display_name": "Python 3",
   "language": "python",
   "name": "python3"
  },
  "language_info": {
   "codemirror_mode": {
    "name": "ipython",
    "version": 3
   },
   "file_extension": ".py",
   "mimetype": "text/x-python",
   "name": "python",
   "nbconvert_exporter": "python",
   "pygments_lexer": "ipython3",
   "version": "3.6.9"
  }
 },
 "nbformat": 4,
 "nbformat_minor": 4
}
