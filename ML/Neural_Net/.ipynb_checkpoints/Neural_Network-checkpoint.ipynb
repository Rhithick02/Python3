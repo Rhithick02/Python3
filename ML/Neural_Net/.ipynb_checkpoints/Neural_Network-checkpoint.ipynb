{
 "cells": [
  {
   "cell_type": "code",
   "execution_count": 3,
   "metadata": {},
   "outputs": [],
   "source": [
    "import pandas as pd\n",
    "import numpy as np"
   ]
  },
  {
   "cell_type": "code",
   "execution_count": 17,
   "metadata": {},
   "outputs": [],
   "source": [
    "def sigmoid(z):\n",
    "    return 1 / (1 + np.exp(-z))"
   ]
  },
  {
   "cell_type": "code",
   "execution_count": null,
   "metadata": {},
   "outputs": [],
   "source": [
    "def sigmoid_grad(z):\n",
    "    return sigmoid(z) * (1 - sigmoid(z))"
   ]
  },
  {
   "cell_type": "code",
   "execution_count": null,
   "metadata": {},
   "outputs": [],
   "source": [
    "def forward_prop(X, theta1, theta2):\n",
    "    a2 = sigmoid(X @ theta1.T)\n",
    "    te = np.ones(shape = (a2.shape[0], 1))\n",
    "    a2 = np.append(te, a2, axis = 1)\n",
    "    a3 = sigmoid(theta2 @ a2)\n",
    "    return a3"
   ]
  },
  {
   "cell_type": "code",
   "execution_count": 63,
   "metadata": {},
   "outputs": [],
   "source": [
    "def cost(X, Y, theta1, theta2):\n",
    "    hx = forward_prop(X, theta1, theta2)\n",
    "    y_new = np.zeros(shape = (3, X[0].shape))\n",
    "    for i in range(X[0].shape):\n",
    "        y_new[Y[i]-1][i] = 1\n",
    "    J = np.sum(np.sum(y_new * log(hx) + (1 - y_new) * log(1 - hx)))\n",
    "    J = (-1 * J) / len(Y)\n",
    "    return J"
   ]
  },
  {
   "cell_type": "code",
   "execution_count": null,
   "metadata": {},
   "outputs": [],
   "source": [
    "def back_prop(X, Y, theta1, theta2):\n",
    "    "
   ]
  },
  {
   "cell_type": "code",
   "execution_count": 37,
   "metadata": {},
   "outputs": [
    {
     "data": {
      "text/plain": [
       "(210, 8)"
      ]
     },
     "execution_count": 37,
     "metadata": {},
     "output_type": "execute_result"
    }
   ],
   "source": [
    "df = pd.read_csv('seeds_dataset.txt', header = None).values\n",
    "df.shape"
   ]
  },
  {
   "cell_type": "code",
   "execution_count": 60,
   "metadata": {},
   "outputs": [],
   "source": [
    "X = df[:, :-1] # Shape = 210 x 7\n",
    "Y = df[:, -1].reshape((210, 1)) # Shape = 210 x 1"
   ]
  },
  {
   "cell_type": "code",
   "execution_count": 58,
   "metadata": {},
   "outputs": [
    {
     "data": {
      "text/plain": [
       "(210, 8)"
      ]
     },
     "execution_count": 58,
     "metadata": {},
     "output_type": "execute_result"
    }
   ],
   "source": [
    "# normalise\n",
    "for i in range(X.shape[1]):\n",
    "    X.T[i] = (X.T[i] - X.T[i].mean()) / np.std(X.T[i])\n",
    "# X\n",
    "x = np.ones(shape = (X.shape[0], 1))\n",
    "X = np.append(x, X, axis = 1)\n",
    "X.shape"
   ]
  },
  {
   "cell_type": "code",
   "execution_count": 52,
   "metadata": {},
   "outputs": [],
   "source": [
    "# Hyper parameters\n",
    "inp_lyr = 7\n",
    "hid_lyr = 7\n",
    "out_lyr = 3\n",
    "l_rate = 0.01\n",
    "epochs = 500\n",
    "theta1 = np.random.rand(hid_lyr, inp_lyr + 1) #theta1 shape = 7 x 8\n",
    "theta2 = np.random.rand(out_lyr, hid_lyr + 1) #theta2 shape = 3 x 8"
   ]
  }
 ],
 "metadata": {
  "kernelspec": {
   "display_name": "Python 3",
   "language": "python",
   "name": "python3"
  },
  "language_info": {
   "codemirror_mode": {
    "name": "ipython",
    "version": 3
   },
   "file_extension": ".py",
   "mimetype": "text/x-python",
   "name": "python",
   "nbconvert_exporter": "python",
   "pygments_lexer": "ipython3",
   "version": "3.6.9"
  }
 },
 "nbformat": 4,
 "nbformat_minor": 4
}
